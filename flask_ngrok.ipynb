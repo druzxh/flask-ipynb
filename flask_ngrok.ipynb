{
  "cells": [
    {
      "cell_type": "markdown",
      "metadata": {
        "id": "view-in-github",
        "colab_type": "text"
      },
      "source": [
        "<a href=\"https://colab.research.google.com/github/druzxh/flask-ipynb/blob/main/flask_ngrok.ipynb\" target=\"_parent\"><img src=\"https://colab.research.google.com/assets/colab-badge.svg\" alt=\"Open In Colab\"/></a>"
      ]
    },
    {
      "cell_type": "markdown",
      "metadata": {
        "id": "ejRhERBP1oMr"
      },
      "source": [
        "# Install Flask"
      ]
    },
    {
      "cell_type": "code",
      "execution_count": null,
      "metadata": {
        "colab": {
          "base_uri": "https://localhost:8080/"
        },
        "id": "09wHkSfJ1rjP",
        "outputId": "a6fa25e2-f375-4399-fbd8-5578c01e4204"
      },
      "outputs": [
        {
          "name": "stdout",
          "output_type": "stream",
          "text": [
            "Requirement already satisfied: Flask in /usr/local/lib/python3.10/dist-packages (2.2.5)\n",
            "Collecting Flask-Cors\n",
            "  Downloading Flask_Cors-4.0.1-py2.py3-none-any.whl (14 kB)\n",
            "Collecting reportlab\n",
            "  Downloading reportlab-4.2.2-py3-none-any.whl (1.9 MB)\n",
            "\u001b[2K     \u001b[90m━━━━━━━━━━━━━━━━━━━━━━━━━━━━━━━━━━━━━━━━\u001b[0m \u001b[32m1.9/1.9 MB\u001b[0m \u001b[31m10.5 MB/s\u001b[0m eta \u001b[36m0:00:00\u001b[0m\n",
            "\u001b[?25hRequirement already satisfied: Werkzeug>=2.2.2 in /usr/local/lib/python3.10/dist-packages (from Flask) (3.0.3)\n",
            "Requirement already satisfied: Jinja2>=3.0 in /usr/local/lib/python3.10/dist-packages (from Flask) (3.1.4)\n",
            "Requirement already satisfied: itsdangerous>=2.0 in /usr/local/lib/python3.10/dist-packages (from Flask) (2.2.0)\n",
            "Requirement already satisfied: click>=8.0 in /usr/local/lib/python3.10/dist-packages (from Flask) (8.1.7)\n",
            "Requirement already satisfied: pillow>=9.0.0 in /usr/local/lib/python3.10/dist-packages (from reportlab) (9.4.0)\n",
            "Requirement already satisfied: chardet in /usr/local/lib/python3.10/dist-packages (from reportlab) (5.2.0)\n",
            "Requirement already satisfied: MarkupSafe>=2.0 in /usr/local/lib/python3.10/dist-packages (from Jinja2>=3.0->Flask) (2.1.5)\n",
            "Installing collected packages: reportlab, Flask-Cors\n",
            "Successfully installed Flask-Cors-4.0.1 reportlab-4.2.2\n"
          ]
        }
      ],
      "source": [
        "!pip install Flask Flask-Cors reportlab"
      ]
    },
    {
      "cell_type": "markdown",
      "metadata": {
        "id": "tFbWnjEN8Rqy"
      },
      "source": [
        "# Save Token"
      ]
    },
    {
      "cell_type": "code",
      "execution_count": null,
      "metadata": {
        "colab": {
          "base_uri": "https://localhost:8080/"
        },
        "id": "fKGeKPLq5n2d",
        "outputId": "475efa02-5275-48f7-f42b-d54134ff8a13"
      },
      "outputs": [
        {
          "name": "stdout",
          "output_type": "stream",
          "text": [
            "Collecting pyngrok\n",
            "  Downloading pyngrok-7.1.6-py3-none-any.whl (22 kB)\n",
            "Requirement already satisfied: PyYAML>=5.1 in /usr/local/lib/python3.10/dist-packages (from pyngrok) (6.0.1)\n",
            "Installing collected packages: pyngrok\n",
            "Successfully installed pyngrok-7.1.6\n"
          ]
        }
      ],
      "source": [
        "!pip install pyngrok"
      ]
    },
    {
      "cell_type": "code",
      "execution_count": null,
      "metadata": {
        "colab": {
          "base_uri": "https://localhost:8080/"
        },
        "id": "L9Jx9Yys6Xf5",
        "outputId": "a7a6a6c2-d791-4efb-e55f-7c9439853169"
      },
      "outputs": [
        {
          "name": "stdout",
          "output_type": "stream",
          "text": [
            "Authtoken saved to configuration file: /root/.config/ngrok/ngrok.yml\n"
          ]
        }
      ],
      "source": [
        "!ngrok authtoken 2iUWiPXkNqJu5H4iaaJ1h9ldOcc_5aRvaJ8LvrLsutQCeZZ2t"
      ]
    },
    {
      "cell_type": "code",
      "execution_count": null,
      "metadata": {
        "colab": {
          "base_uri": "https://localhost:8080/"
        },
        "id": "B84kFZNq9Bw5",
        "outputId": "dcee5390-bd31-46e7-a6f3-1ef99266e0a7"
      },
      "outputs": [
        {
          "name": "stdout",
          "output_type": "stream",
          "text": [
            "Collecting flask-swagger-ui\n",
            "  Downloading flask_swagger_ui-4.11.1-py3-none-any.whl (1.4 MB)\n",
            "\u001b[2K     \u001b[90m━━━━━━━━━━━━━━━━━━━━━━━━━━━━━━━━━━━━━━━━\u001b[0m \u001b[32m1.4/1.4 MB\u001b[0m \u001b[31m8.5 MB/s\u001b[0m eta \u001b[36m0:00:00\u001b[0m\n",
            "\u001b[?25hRequirement already satisfied: flask in /usr/local/lib/python3.10/dist-packages (from flask-swagger-ui) (2.2.5)\n",
            "Requirement already satisfied: Werkzeug>=2.2.2 in /usr/local/lib/python3.10/dist-packages (from flask->flask-swagger-ui) (3.0.3)\n",
            "Requirement already satisfied: Jinja2>=3.0 in /usr/local/lib/python3.10/dist-packages (from flask->flask-swagger-ui) (3.1.4)\n",
            "Requirement already satisfied: itsdangerous>=2.0 in /usr/local/lib/python3.10/dist-packages (from flask->flask-swagger-ui) (2.2.0)\n",
            "Requirement already satisfied: click>=8.0 in /usr/local/lib/python3.10/dist-packages (from flask->flask-swagger-ui) (8.1.7)\n",
            "Requirement already satisfied: MarkupSafe>=2.0 in /usr/local/lib/python3.10/dist-packages (from Jinja2>=3.0->flask->flask-swagger-ui) (2.1.5)\n",
            "Installing collected packages: flask-swagger-ui\n",
            "Successfully installed flask-swagger-ui-4.11.1\n"
          ]
        }
      ],
      "source": [
        "!pip install flask-swagger-ui\n",
        "# from google.colab import files\n",
        "# uploaded = files.upload()\n",
        "\n",
        "# !mkdir -p static\n",
        "# !mv swagger.json static/\n"
      ]
    },
    {
      "cell_type": "markdown",
      "metadata": {
        "id": "4H-c-ioA8EoX"
      },
      "source": [
        "# Import Flask, Ngrok"
      ]
    },
    {
      "cell_type": "code",
      "execution_count": null,
      "metadata": {
        "colab": {
          "background_save": true,
          "base_uri": "https://localhost:8080/"
        },
        "id": "GlMigr_x2Y_9",
        "outputId": "0eb86bda-fadd-4349-c456-6f85e3f46aee"
      },
      "outputs": [
        {
          "name": "stdout",
          "output_type": "stream",
          "text": [
            "Public URL: https://f9d4-34-125-115-42.ngrok-free.app/api/docs\n",
            " * Serving Flask app '__main__'\n",
            " * Debug mode: off\n"
          ]
        },
        {
          "name": "stderr",
          "output_type": "stream",
          "text": [
            "INFO:werkzeug:\u001b[31m\u001b[1mWARNING: This is a development server. Do not use it in a production deployment. Use a production WSGI server instead.\u001b[0m\n",
            " * Running on http://127.0.0.1:5000\n",
            "INFO:werkzeug:\u001b[33mPress CTRL+C to quit\u001b[0m\n",
            "INFO:werkzeug:127.0.0.1 - - [28/Jun/2024 07:53:20] \"\u001b[32mGET /api/docs HTTP/1.1\u001b[0m\" 308 -\n",
            "INFO:werkzeug:127.0.0.1 - - [28/Jun/2024 07:53:21] \"GET /api/docs/ HTTP/1.1\" 200 -\n",
            "INFO:werkzeug:127.0.0.1 - - [28/Jun/2024 07:53:22] \"GET /api/docs/index.css HTTP/1.1\" 200 -\n",
            "INFO:werkzeug:127.0.0.1 - - [28/Jun/2024 07:53:22] \"GET /api/docs/swagger-ui.css HTTP/1.1\" 200 -\n",
            "INFO:werkzeug:127.0.0.1 - - [28/Jun/2024 07:53:22] \"GET /api/docs/swagger-ui-bundle.js HTTP/1.1\" 200 -\n",
            "INFO:werkzeug:127.0.0.1 - - [28/Jun/2024 07:53:22] \"GET /api/docs/swagger-ui-standalone-preset.js HTTP/1.1\" 200 -\n",
            "INFO:werkzeug:127.0.0.1 - - [28/Jun/2024 07:53:25] \"GET /api/docs/swagger-ui-standalone-preset.js HTTP/1.1\" 200 -\n",
            "INFO:werkzeug:127.0.0.1 - - [28/Jun/2024 07:53:26] \"GET /api/docs/swagger-ui-bundle.js HTTP/1.1\" 200 -\n",
            "INFO:werkzeug:127.0.0.1 - - [28/Jun/2024 07:53:26] \"GET /static/swagger.json HTTP/1.1\" 200 -\n",
            "INFO:werkzeug:127.0.0.1 - - [28/Jun/2024 07:53:26] \"GET /api/docs/favicon-32x32.png HTTP/1.1\" 200 -\n",
            "INFO:werkzeug:127.0.0.1 - - [28/Jun/2024 07:53:26] \"GET /static/swagger.json HTTP/1.1\" 200 -\n"
          ]
        }
      ],
      "source": [
        "import os\n",
        "from flask import Flask, jsonify, redirect, request\n",
        "from flask_cors import CORS\n",
        "from pyngrok import ngrok\n",
        "from flask_swagger_ui import get_swaggerui_blueprint\n",
        "import json\n",
        "\n",
        "app = Flask(__name__)\n",
        "CORS(app)\n",
        "\n",
        "SWAGGER_URL = '/api/docs'\n",
        "API_URL = '/static/swagger.json'\n",
        "\n",
        "class SwaggerGenerator:\n",
        "    def __init__(self, app, swagger_url, api_url, app_name):\n",
        "        self.app = app\n",
        "        self.swagger_url = swagger_url\n",
        "        self.api_url = api_url\n",
        "        self.app_name = app_name\n",
        "        self.swagger_spec = {\n",
        "            \"swagger\": \"2.0\",\n",
        "            \"info\": {\n",
        "                \"description\": f\"API {self.app_name}\",\n",
        "                \"version\": \"1.0.0\",\n",
        "                \"title\": self.app_name\n",
        "            },\n",
        "            \"host\": \"\",\n",
        "            \"basePath\": \"/\",\n",
        "            \"tags\": [\n",
        "                {\"name\": \"test\", \"description\": \"Operations related to test\"},\n",
        "                {\"name\": \"users\", \"description\": \"Operations related to users\"},\n",
        "                {\"name\": \"categories\", \"description\": \"Operations related to categories\"}\n",
        "            ],\n",
        "            \"paths\": {}\n",
        "        }\n",
        "\n",
        "    def register_swagger_ui(self):\n",
        "        swaggerui_blueprint = get_swaggerui_blueprint(\n",
        "            self.swagger_url,\n",
        "            self.api_url,\n",
        "            config={'app_name': self.app_name}\n",
        "        )\n",
        "        self.app.register_blueprint(swaggerui_blueprint, url_prefix=self.swagger_url)\n",
        "\n",
        "    def register_path(self, route, endpoint, methods=['GET'], tags=None):\n",
        "        if tags is None:\n",
        "            tags = []\n",
        "\n",
        "        route_data = {\n",
        "            \"tags\": tags,\n",
        "            \"summary\": f\"Returns {endpoint} page\",\n",
        "            \"description\": f\"Returns {endpoint} page\",\n",
        "            \"operationId\": endpoint,\n",
        "            \"produces\": [\"application/json\"],\n",
        "            \"responses\": {\n",
        "                \"200\": {\n",
        "                    \"description\": \"successful operation\",\n",
        "                    \"schema\": {\"$ref\": f\"#/definitions/{endpoint.capitalize()[:-1]}\"}\n",
        "                }\n",
        "            }\n",
        "        }\n",
        "        if route not in self.swagger_spec['paths']:\n",
        "            self.swagger_spec['paths'][route] = {}\n",
        "        for method in methods:\n",
        "            self.swagger_spec['paths'][route][method.lower()] = route_data\n",
        "\n",
        "    def set_host(self, host):\n",
        "        self.swagger_spec['host'] = host\n",
        "\n",
        "    def generate_swagger(self):\n",
        "        with open(os.path.join(app.root_path, 'static', 'swagger.json'), 'w') as f:\n",
        "            json.dump(self.swagger_spec, f, indent=4)\n",
        "\n",
        "        self.register_swagger_ui()\n",
        "\n",
        "@app.route('/')\n",
        "def index():\n",
        "    return redirect(SWAGGER_URL)\n",
        "\n",
        "@app.route('/api/test', methods=['GET', 'POST'])  # Example of multiple methods\n",
        "def test():\n",
        "    if request.method == 'GET':\n",
        "        data = {\n",
        "            'message': 'Hello, World!',\n",
        "            'status': 'success'\n",
        "        }\n",
        "        return jsonify(data)\n",
        "    elif request.method == 'POST':\n",
        "        data = request.get_json()\n",
        "        return jsonify(data)\n",
        "\n",
        "@app.route('/api/users', methods=['GET', 'POST'])\n",
        "def users():\n",
        "    if request.method == 'GET':\n",
        "        users = [\n",
        "            {\"id\": 1, \"username\": \"user1\"},\n",
        "            {\"id\": 2, \"username\": \"user2\"}\n",
        "        ]\n",
        "        return jsonify(users)\n",
        "    elif request.method == 'POST':\n",
        "        data = request.get_json()\n",
        "        return jsonify(data), 201\n",
        "\n",
        "@app.route('/api/categories', methods=['GET', 'POST'])\n",
        "def categories():\n",
        "    if request.method == 'GET':\n",
        "        categories = [\n",
        "            {\"id\": 1, \"name\": \"category1\"},\n",
        "            {\"id\": 2, \"name\": \"category2\"}\n",
        "        ]\n",
        "        return jsonify(categories)\n",
        "    elif request.method == 'POST':\n",
        "        data = request.get_json()\n",
        "        return jsonify(data), 201\n",
        "\n",
        "if __name__ == '__main__':\n",
        "    os.makedirs(os.path.join(app.root_path, 'static'), exist_ok=True)\n",
        "\n",
        "    swagger_generator = SwaggerGenerator(app, SWAGGER_URL, API_URL, \"API CLEANSING DATA\")\n",
        "    swagger_generator.register_path('/api/test', 'test', methods=['GET', 'POST'], tags=['test'])\n",
        "    swagger_generator.register_path('/api/users', 'users', methods=['GET', 'POST'], tags=['users'])\n",
        "    swagger_generator.register_path('/api/users/create', 'users', methods=['POST'], tags=['users'])\n",
        "    swagger_generator.register_path('/api/categories', 'categories', methods=['GET', 'POST'], tags=['categories'])\n",
        "    swagger_generator.register_path('/api/categories/create', 'categories', methods=['POST'], tags=['categories'])\n",
        "\n",
        "    port = 5000\n",
        "    public_url = ngrok.connect(port).public_url\n",
        "    print(f'Public URL: {public_url}{SWAGGER_URL}')\n",
        "\n",
        "    swagger_generator.set_host(public_url.replace('http://', '').replace('https://', ''))\n",
        "    swagger_generator.generate_swagger()\n",
        "\n",
        "    app.run(port=port)\n"
      ]
    }
  ],
  "metadata": {
    "colab": {
      "collapsed_sections": [
        "ejRhERBP1oMr",
        "tFbWnjEN8Rqy"
      ],
      "provenance": [],
      "authorship_tag": "ABX9TyNvDinT/on9twMR5VuogjIp",
      "include_colab_link": true
    },
    "kernelspec": {
      "display_name": "Python 3",
      "name": "python3"
    },
    "language_info": {
      "name": "python"
    }
  },
  "nbformat": 4,
  "nbformat_minor": 0
}